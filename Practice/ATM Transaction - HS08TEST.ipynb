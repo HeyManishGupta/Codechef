{
 "cells": [
  {
   "cell_type": "code",
   "execution_count": null,
   "metadata": {},
   "outputs": [],
   "source": [
    "amount, bal = input().split()  \n",
    "amount = int(amount)\n",
    "bal = float(bal)\n",
    "if (amount % 5 == 0 and bal > (amount + 0.5)):\n",
    "    bal = bal - amount - 0.5     \n",
    "    print('%.2f' % bal)\n",
    "else:\n",
    "    print('%.2f' % bal)"
   ]
  }
 ],
 "metadata": {
  "kernelspec": {
   "display_name": "Python 3",
   "language": "python",
   "name": "python3"
  },
  "language_info": {
   "codemirror_mode": {
    "name": "ipython",
    "version": 3
   },
   "file_extension": ".py",
   "mimetype": "text/x-python",
   "name": "python",
   "nbconvert_exporter": "python",
   "pygments_lexer": "ipython3",
   "version": "3.7.3"
  }
 },
 "nbformat": 4,
 "nbformat_minor": 4
}
